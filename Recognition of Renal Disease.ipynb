{
  "nbformat": 4,
  "nbformat_minor": 0,
  "metadata": {
    "colab": {
      "provenance": [],
      "include_colab_link": true
    },
    "kernelspec": {
      "name": "python3",
      "display_name": "Python 3"
    },
    "language_info": {
      "name": "python"
    }
  },
  "cells": [
    {
      "cell_type": "markdown",
      "metadata": {
        "id": "view-in-github",
        "colab_type": "text"
      },
      "source": [
        "<a href=\"https://colab.research.google.com/github/iamJagruthi/Recognition-of-Renal-Disease/blob/main/Recognition%20of%20Renal%20Disease.ipynb\" target=\"_parent\"><img src=\"https://colab.research.google.com/assets/colab-badge.svg\" alt=\"Open In Colab\"/></a>"
      ]
    },
    {
      "cell_type": "code",
      "metadata": {
        "id": "usahn0mLC5T5"
      },
      "source": [
        "import matplotlib.pyplot as plt\n",
        "import seaborn as sns\n",
        "import pandas as pd\n",
        "import numpy as np"
      ],
      "execution_count": null,
      "outputs": []
    },
    {
      "cell_type": "code",
      "metadata": {
        "id": "6F2dyMNyC96U"
      },
      "source": [
        "df = pd.read_csv('/content/drive/MyDrive/Colab Notebooks/kidney_disease_final.csv')\n"
      ],
      "execution_count": null,
      "outputs": []
    },
    {
      "cell_type": "code",
      "metadata": {
        "colab": {
          "base_uri": "https://localhost:8080/"
        },
        "id": "twWiqkUoD0m7",
        "outputId": "3b322fdf-3db0-486a-fae5-6f4d8e5ee766"
      },
      "source": [
        "df.info()"
      ],
      "execution_count": null,
      "outputs": [
        {
          "output_type": "stream",
          "name": "stdout",
          "text": [
            "<class 'pandas.core.frame.DataFrame'>\n",
            "RangeIndex: 400 entries, 0 to 399\n",
            "Data columns (total 25 columns):\n",
            " #   Column                   Non-Null Count  Dtype  \n",
            "---  ------                   --------------  -----  \n",
            " 0   age                      400 non-null    float64\n",
            " 1   blood_pressure           400 non-null    float64\n",
            " 2   specific_gravity         400 non-null    float64\n",
            " 3   albumin                  400 non-null    float64\n",
            " 4   sugar                    400 non-null    float64\n",
            " 5   red_blood_cells          400 non-null    float64\n",
            " 6   pus_cell                 400 non-null    float64\n",
            " 7   pus_cell_clumps          400 non-null    float64\n",
            " 8   bacteria                 400 non-null    float64\n",
            " 9   blood_glucose_random     400 non-null    float64\n",
            " 10  blood_urea               400 non-null    float64\n",
            " 11  serum_creatinine         400 non-null    float64\n",
            " 12  sodium                   400 non-null    float64\n",
            " 13  potassium                400 non-null    float64\n",
            " 14  haemoglobin              400 non-null    float64\n",
            " 15  packed_cell_volume       400 non-null    float64\n",
            " 16  white_blood_cell_count   400 non-null    float64\n",
            " 17  red_blood_cell_count     400 non-null    float64\n",
            " 18  hypertension             400 non-null    float64\n",
            " 19  diabetes_mellitus        400 non-null    float64\n",
            " 20  coronary_artery_disease  400 non-null    float64\n",
            " 21  appetite                 400 non-null    float64\n",
            " 22  pedal_edema              400 non-null    float64\n",
            " 23  anemia                   400 non-null    float64\n",
            " 24  classification           400 non-null    int64  \n",
            "dtypes: float64(24), int64(1)\n",
            "memory usage: 78.2 KB\n"
          ]
        }
      ]
    },
    {
      "cell_type": "code",
      "metadata": {
        "colab": {
          "base_uri": "https://localhost:8080/"
        },
        "id": "YU_0VEzYD6zQ",
        "outputId": "2f5cd7c4-0ce1-4722-95fa-f49c5869f10c"
      },
      "source": [
        "df.columns"
      ],
      "execution_count": null,
      "outputs": [
        {
          "output_type": "execute_result",
          "data": {
            "text/plain": [
              "Index(['age', 'blood_pressure', 'specific_gravity', 'albumin', 'sugar',\n",
              "       'red_blood_cells', 'pus_cell', 'pus_cell_clumps', 'bacteria',\n",
              "       'blood_glucose_random', 'blood_urea', 'serum_creatinine', 'sodium',\n",
              "       'potassium', 'haemoglobin', 'packed_cell_volume',\n",
              "       'white_blood_cell_count', 'red_blood_cell_count', 'hypertension',\n",
              "       'diabetes_mellitus', 'coronary_artery_disease', 'appetite',\n",
              "       'pedal_edema', 'anemia', 'classification'],\n",
              "      dtype='object')"
            ]
          },
          "metadata": {},
          "execution_count": 4
        }
      ]
    },
    {
      "cell_type": "code",
      "metadata": {
        "colab": {
          "base_uri": "https://localhost:8080/",
          "height": 315
        },
        "id": "lr-NwyXtD-br",
        "outputId": "f3048be7-7592-4319-a4cc-61aa7418a16f"
      },
      "source": [
        "df.describe()"
      ],
      "execution_count": null,
      "outputs": [
        {
          "output_type": "execute_result",
          "data": {
            "text/html": [
              "<div>\n",
              "<style scoped>\n",
              "    .dataframe tbody tr th:only-of-type {\n",
              "        vertical-align: middle;\n",
              "    }\n",
              "\n",
              "    .dataframe tbody tr th {\n",
              "        vertical-align: top;\n",
              "    }\n",
              "\n",
              "    .dataframe thead th {\n",
              "        text-align: right;\n",
              "    }\n",
              "</style>\n",
              "<table border=\"1\" class=\"dataframe\">\n",
              "  <thead>\n",
              "    <tr style=\"text-align: right;\">\n",
              "      <th></th>\n",
              "      <th>age</th>\n",
              "      <th>blood_pressure</th>\n",
              "      <th>specific_gravity</th>\n",
              "      <th>albumin</th>\n",
              "      <th>sugar</th>\n",
              "      <th>red_blood_cells</th>\n",
              "      <th>pus_cell</th>\n",
              "      <th>pus_cell_clumps</th>\n",
              "      <th>bacteria</th>\n",
              "      <th>blood_glucose_random</th>\n",
              "      <th>blood_urea</th>\n",
              "      <th>serum_creatinine</th>\n",
              "      <th>sodium</th>\n",
              "      <th>potassium</th>\n",
              "      <th>haemoglobin</th>\n",
              "      <th>packed_cell_volume</th>\n",
              "      <th>white_blood_cell_count</th>\n",
              "      <th>red_blood_cell_count</th>\n",
              "      <th>hypertension</th>\n",
              "      <th>diabetes_mellitus</th>\n",
              "      <th>coronary_artery_disease</th>\n",
              "      <th>appetite</th>\n",
              "      <th>pedal_edema</th>\n",
              "      <th>anemia</th>\n",
              "      <th>classification</th>\n",
              "    </tr>\n",
              "  </thead>\n",
              "  <tbody>\n",
              "    <tr>\n",
              "      <th>count</th>\n",
              "      <td>400.000000</td>\n",
              "      <td>400.000000</td>\n",
              "      <td>400.000000</td>\n",
              "      <td>400.000000</td>\n",
              "      <td>400.000000</td>\n",
              "      <td>400.000000</td>\n",
              "      <td>400.000000</td>\n",
              "      <td>400.000000</td>\n",
              "      <td>400.000000</td>\n",
              "      <td>400.000000</td>\n",
              "      <td>400.000000</td>\n",
              "      <td>400.00000</td>\n",
              "      <td>400.000000</td>\n",
              "      <td>400.000000</td>\n",
              "      <td>400.000000</td>\n",
              "      <td>400.000000</td>\n",
              "      <td>400.000000</td>\n",
              "      <td>400.000000</td>\n",
              "      <td>400.000000</td>\n",
              "      <td>400.000000</td>\n",
              "      <td>400.000000</td>\n",
              "      <td>400.000000</td>\n",
              "      <td>400.000000</td>\n",
              "      <td>400.000000</td>\n",
              "      <td>400.000000</td>\n",
              "    </tr>\n",
              "    <tr>\n",
              "      <th>mean</th>\n",
              "      <td>51.483300</td>\n",
              "      <td>76.469100</td>\n",
              "      <td>1.017712</td>\n",
              "      <td>1.017300</td>\n",
              "      <td>0.450125</td>\n",
              "      <td>0.810300</td>\n",
              "      <td>0.772625</td>\n",
              "      <td>0.106100</td>\n",
              "      <td>0.055600</td>\n",
              "      <td>148.036900</td>\n",
              "      <td>57.425925</td>\n",
              "      <td>3.07235</td>\n",
              "      <td>137.529025</td>\n",
              "      <td>4.627850</td>\n",
              "      <td>12.526900</td>\n",
              "      <td>38.883700</td>\n",
              "      <td>8406.121800</td>\n",
              "      <td>4.708275</td>\n",
              "      <td>0.369350</td>\n",
              "      <td>0.344200</td>\n",
              "      <td>0.085450</td>\n",
              "      <td>0.794475</td>\n",
              "      <td>0.190475</td>\n",
              "      <td>0.150375</td>\n",
              "      <td>0.625000</td>\n",
              "    </tr>\n",
              "    <tr>\n",
              "      <th>std</th>\n",
              "      <td>16.974966</td>\n",
              "      <td>13.476298</td>\n",
              "      <td>0.005434</td>\n",
              "      <td>1.272318</td>\n",
              "      <td>1.029487</td>\n",
              "      <td>0.308983</td>\n",
              "      <td>0.383751</td>\n",
              "      <td>0.306756</td>\n",
              "      <td>0.228199</td>\n",
              "      <td>74.782634</td>\n",
              "      <td>49.285887</td>\n",
              "      <td>5.61749</td>\n",
              "      <td>9.204273</td>\n",
              "      <td>2.819783</td>\n",
              "      <td>2.716171</td>\n",
              "      <td>8.151082</td>\n",
              "      <td>2523.219976</td>\n",
              "      <td>0.840315</td>\n",
              "      <td>0.482023</td>\n",
              "      <td>0.474518</td>\n",
              "      <td>0.279166</td>\n",
              "      <td>0.404077</td>\n",
              "      <td>0.392677</td>\n",
              "      <td>0.357440</td>\n",
              "      <td>0.484729</td>\n",
              "    </tr>\n",
              "    <tr>\n",
              "      <th>min</th>\n",
              "      <td>2.000000</td>\n",
              "      <td>50.000000</td>\n",
              "      <td>1.005000</td>\n",
              "      <td>0.000000</td>\n",
              "      <td>0.000000</td>\n",
              "      <td>0.000000</td>\n",
              "      <td>0.000000</td>\n",
              "      <td>0.000000</td>\n",
              "      <td>0.000000</td>\n",
              "      <td>22.000000</td>\n",
              "      <td>1.500000</td>\n",
              "      <td>0.40000</td>\n",
              "      <td>4.500000</td>\n",
              "      <td>2.500000</td>\n",
              "      <td>3.100000</td>\n",
              "      <td>9.000000</td>\n",
              "      <td>2200.000000</td>\n",
              "      <td>2.100000</td>\n",
              "      <td>0.000000</td>\n",
              "      <td>0.000000</td>\n",
              "      <td>0.000000</td>\n",
              "      <td>0.000000</td>\n",
              "      <td>0.000000</td>\n",
              "      <td>0.000000</td>\n",
              "      <td>0.000000</td>\n",
              "    </tr>\n",
              "    <tr>\n",
              "      <th>25%</th>\n",
              "      <td>42.000000</td>\n",
              "      <td>70.000000</td>\n",
              "      <td>1.015000</td>\n",
              "      <td>0.000000</td>\n",
              "      <td>0.000000</td>\n",
              "      <td>0.810000</td>\n",
              "      <td>0.770000</td>\n",
              "      <td>0.000000</td>\n",
              "      <td>0.000000</td>\n",
              "      <td>101.000000</td>\n",
              "      <td>27.000000</td>\n",
              "      <td>0.90000</td>\n",
              "      <td>135.000000</td>\n",
              "      <td>4.000000</td>\n",
              "      <td>10.875000</td>\n",
              "      <td>34.000000</td>\n",
              "      <td>6975.000000</td>\n",
              "      <td>4.500000</td>\n",
              "      <td>0.000000</td>\n",
              "      <td>0.000000</td>\n",
              "      <td>0.000000</td>\n",
              "      <td>1.000000</td>\n",
              "      <td>0.000000</td>\n",
              "      <td>0.000000</td>\n",
              "      <td>0.000000</td>\n",
              "    </tr>\n",
              "    <tr>\n",
              "      <th>50%</th>\n",
              "      <td>54.000000</td>\n",
              "      <td>78.235000</td>\n",
              "      <td>1.020000</td>\n",
              "      <td>1.000000</td>\n",
              "      <td>0.000000</td>\n",
              "      <td>1.000000</td>\n",
              "      <td>1.000000</td>\n",
              "      <td>0.000000</td>\n",
              "      <td>0.000000</td>\n",
              "      <td>126.000000</td>\n",
              "      <td>44.000000</td>\n",
              "      <td>1.40000</td>\n",
              "      <td>137.530000</td>\n",
              "      <td>4.630000</td>\n",
              "      <td>12.530000</td>\n",
              "      <td>38.880000</td>\n",
              "      <td>8406.120000</td>\n",
              "      <td>4.710000</td>\n",
              "      <td>0.000000</td>\n",
              "      <td>0.000000</td>\n",
              "      <td>0.000000</td>\n",
              "      <td>1.000000</td>\n",
              "      <td>0.000000</td>\n",
              "      <td>0.000000</td>\n",
              "      <td>1.000000</td>\n",
              "    </tr>\n",
              "    <tr>\n",
              "      <th>75%</th>\n",
              "      <td>64.000000</td>\n",
              "      <td>80.000000</td>\n",
              "      <td>1.020000</td>\n",
              "      <td>2.000000</td>\n",
              "      <td>0.450000</td>\n",
              "      <td>1.000000</td>\n",
              "      <td>1.000000</td>\n",
              "      <td>0.000000</td>\n",
              "      <td>0.000000</td>\n",
              "      <td>150.000000</td>\n",
              "      <td>61.750000</td>\n",
              "      <td>3.07000</td>\n",
              "      <td>141.000000</td>\n",
              "      <td>4.800000</td>\n",
              "      <td>14.625000</td>\n",
              "      <td>44.000000</td>\n",
              "      <td>9400.000000</td>\n",
              "      <td>5.100000</td>\n",
              "      <td>1.000000</td>\n",
              "      <td>1.000000</td>\n",
              "      <td>0.000000</td>\n",
              "      <td>1.000000</td>\n",
              "      <td>0.000000</td>\n",
              "      <td>0.000000</td>\n",
              "      <td>1.000000</td>\n",
              "    </tr>\n",
              "    <tr>\n",
              "      <th>max</th>\n",
              "      <td>90.000000</td>\n",
              "      <td>180.000000</td>\n",
              "      <td>1.025000</td>\n",
              "      <td>5.000000</td>\n",
              "      <td>5.000000</td>\n",
              "      <td>1.000000</td>\n",
              "      <td>1.000000</td>\n",
              "      <td>1.000000</td>\n",
              "      <td>1.000000</td>\n",
              "      <td>490.000000</td>\n",
              "      <td>391.000000</td>\n",
              "      <td>76.00000</td>\n",
              "      <td>163.000000</td>\n",
              "      <td>47.000000</td>\n",
              "      <td>17.800000</td>\n",
              "      <td>54.000000</td>\n",
              "      <td>26400.000000</td>\n",
              "      <td>8.000000</td>\n",
              "      <td>1.000000</td>\n",
              "      <td>1.000000</td>\n",
              "      <td>1.000000</td>\n",
              "      <td>1.000000</td>\n",
              "      <td>1.000000</td>\n",
              "      <td>1.000000</td>\n",
              "      <td>1.000000</td>\n",
              "    </tr>\n",
              "  </tbody>\n",
              "</table>\n",
              "</div>"
            ],
            "text/plain": [
              "              age  blood_pressure  ...      anemia  classification\n",
              "count  400.000000      400.000000  ...  400.000000      400.000000\n",
              "mean    51.483300       76.469100  ...    0.150375        0.625000\n",
              "std     16.974966       13.476298  ...    0.357440        0.484729\n",
              "min      2.000000       50.000000  ...    0.000000        0.000000\n",
              "25%     42.000000       70.000000  ...    0.000000        0.000000\n",
              "50%     54.000000       78.235000  ...    0.000000        1.000000\n",
              "75%     64.000000       80.000000  ...    0.000000        1.000000\n",
              "max     90.000000      180.000000  ...    1.000000        1.000000\n",
              "\n",
              "[8 rows x 25 columns]"
            ]
          },
          "metadata": {},
          "execution_count": 5
        }
      ]
    },
    {
      "cell_type": "code",
      "metadata": {
        "colab": {
          "base_uri": "https://localhost:8080/"
        },
        "id": "XZ0Wd-laECO3",
        "outputId": "a58098fa-821e-4448-d12c-07ae3c664a95"
      },
      "source": [
        "df.shape"
      ],
      "execution_count": null,
      "outputs": [
        {
          "output_type": "execute_result",
          "data": {
            "text/plain": [
              "(400, 25)"
            ]
          },
          "metadata": {},
          "execution_count": 6
        }
      ]
    },
    {
      "cell_type": "code",
      "metadata": {
        "colab": {
          "base_uri": "https://localhost:8080/",
          "height": 819
        },
        "id": "7ihLXuZfEFJX",
        "outputId": "a7979a50-e1f7-47cb-9c5b-4d5c3c53c568"
      },
      "source": [
        "df.head().T"
      ],
      "execution_count": null,
      "outputs": [
        {
          "output_type": "execute_result",
          "data": {
            "text/html": [
              "<div>\n",
              "<style scoped>\n",
              "    .dataframe tbody tr th:only-of-type {\n",
              "        vertical-align: middle;\n",
              "    }\n",
              "\n",
              "    .dataframe tbody tr th {\n",
              "        vertical-align: top;\n",
              "    }\n",
              "\n",
              "    .dataframe thead th {\n",
              "        text-align: right;\n",
              "    }\n",
              "</style>\n",
              "<table border=\"1\" class=\"dataframe\">\n",
              "  <thead>\n",
              "    <tr style=\"text-align: right;\">\n",
              "      <th></th>\n",
              "      <th>0</th>\n",
              "      <th>1</th>\n",
              "      <th>2</th>\n",
              "      <th>3</th>\n",
              "      <th>4</th>\n",
              "    </tr>\n",
              "  </thead>\n",
              "  <tbody>\n",
              "    <tr>\n",
              "      <th>age</th>\n",
              "      <td>48.00</td>\n",
              "      <td>7.00</td>\n",
              "      <td>62.00</td>\n",
              "      <td>48.000</td>\n",
              "      <td>51.00</td>\n",
              "    </tr>\n",
              "    <tr>\n",
              "      <th>blood_pressure</th>\n",
              "      <td>80.00</td>\n",
              "      <td>50.00</td>\n",
              "      <td>80.00</td>\n",
              "      <td>70.000</td>\n",
              "      <td>80.00</td>\n",
              "    </tr>\n",
              "    <tr>\n",
              "      <th>specific_gravity</th>\n",
              "      <td>1.02</td>\n",
              "      <td>1.02</td>\n",
              "      <td>1.01</td>\n",
              "      <td>1.005</td>\n",
              "      <td>1.01</td>\n",
              "    </tr>\n",
              "    <tr>\n",
              "      <th>albumin</th>\n",
              "      <td>1.00</td>\n",
              "      <td>4.00</td>\n",
              "      <td>2.00</td>\n",
              "      <td>4.000</td>\n",
              "      <td>2.00</td>\n",
              "    </tr>\n",
              "    <tr>\n",
              "      <th>sugar</th>\n",
              "      <td>0.00</td>\n",
              "      <td>0.00</td>\n",
              "      <td>3.00</td>\n",
              "      <td>0.000</td>\n",
              "      <td>0.00</td>\n",
              "    </tr>\n",
              "    <tr>\n",
              "      <th>red_blood_cells</th>\n",
              "      <td>0.81</td>\n",
              "      <td>0.81</td>\n",
              "      <td>1.00</td>\n",
              "      <td>1.000</td>\n",
              "      <td>1.00</td>\n",
              "    </tr>\n",
              "    <tr>\n",
              "      <th>pus_cell</th>\n",
              "      <td>1.00</td>\n",
              "      <td>1.00</td>\n",
              "      <td>1.00</td>\n",
              "      <td>0.000</td>\n",
              "      <td>1.00</td>\n",
              "    </tr>\n",
              "    <tr>\n",
              "      <th>pus_cell_clumps</th>\n",
              "      <td>0.00</td>\n",
              "      <td>0.00</td>\n",
              "      <td>0.00</td>\n",
              "      <td>1.000</td>\n",
              "      <td>0.00</td>\n",
              "    </tr>\n",
              "    <tr>\n",
              "      <th>bacteria</th>\n",
              "      <td>0.00</td>\n",
              "      <td>0.00</td>\n",
              "      <td>0.00</td>\n",
              "      <td>0.000</td>\n",
              "      <td>0.00</td>\n",
              "    </tr>\n",
              "    <tr>\n",
              "      <th>blood_glucose_random</th>\n",
              "      <td>121.00</td>\n",
              "      <td>148.04</td>\n",
              "      <td>423.00</td>\n",
              "      <td>117.000</td>\n",
              "      <td>106.00</td>\n",
              "    </tr>\n",
              "    <tr>\n",
              "      <th>blood_urea</th>\n",
              "      <td>36.00</td>\n",
              "      <td>18.00</td>\n",
              "      <td>53.00</td>\n",
              "      <td>56.000</td>\n",
              "      <td>26.00</td>\n",
              "    </tr>\n",
              "    <tr>\n",
              "      <th>serum_creatinine</th>\n",
              "      <td>1.20</td>\n",
              "      <td>0.80</td>\n",
              "      <td>1.80</td>\n",
              "      <td>3.800</td>\n",
              "      <td>1.40</td>\n",
              "    </tr>\n",
              "    <tr>\n",
              "      <th>sodium</th>\n",
              "      <td>137.53</td>\n",
              "      <td>137.53</td>\n",
              "      <td>137.53</td>\n",
              "      <td>111.000</td>\n",
              "      <td>137.53</td>\n",
              "    </tr>\n",
              "    <tr>\n",
              "      <th>potassium</th>\n",
              "      <td>4.63</td>\n",
              "      <td>4.63</td>\n",
              "      <td>4.63</td>\n",
              "      <td>2.500</td>\n",
              "      <td>4.63</td>\n",
              "    </tr>\n",
              "    <tr>\n",
              "      <th>haemoglobin</th>\n",
              "      <td>15.40</td>\n",
              "      <td>11.30</td>\n",
              "      <td>9.60</td>\n",
              "      <td>11.200</td>\n",
              "      <td>11.60</td>\n",
              "    </tr>\n",
              "    <tr>\n",
              "      <th>packed_cell_volume</th>\n",
              "      <td>44.00</td>\n",
              "      <td>38.00</td>\n",
              "      <td>31.00</td>\n",
              "      <td>32.000</td>\n",
              "      <td>35.00</td>\n",
              "    </tr>\n",
              "    <tr>\n",
              "      <th>white_blood_cell_count</th>\n",
              "      <td>7800.00</td>\n",
              "      <td>6000.00</td>\n",
              "      <td>7500.00</td>\n",
              "      <td>6700.000</td>\n",
              "      <td>7300.00</td>\n",
              "    </tr>\n",
              "    <tr>\n",
              "      <th>red_blood_cell_count</th>\n",
              "      <td>5.20</td>\n",
              "      <td>4.71</td>\n",
              "      <td>4.71</td>\n",
              "      <td>3.900</td>\n",
              "      <td>4.60</td>\n",
              "    </tr>\n",
              "    <tr>\n",
              "      <th>hypertension</th>\n",
              "      <td>1.00</td>\n",
              "      <td>0.00</td>\n",
              "      <td>0.00</td>\n",
              "      <td>1.000</td>\n",
              "      <td>0.00</td>\n",
              "    </tr>\n",
              "    <tr>\n",
              "      <th>diabetes_mellitus</th>\n",
              "      <td>1.00</td>\n",
              "      <td>0.00</td>\n",
              "      <td>1.00</td>\n",
              "      <td>0.000</td>\n",
              "      <td>0.00</td>\n",
              "    </tr>\n",
              "    <tr>\n",
              "      <th>coronary_artery_disease</th>\n",
              "      <td>0.00</td>\n",
              "      <td>0.00</td>\n",
              "      <td>0.00</td>\n",
              "      <td>0.000</td>\n",
              "      <td>0.00</td>\n",
              "    </tr>\n",
              "    <tr>\n",
              "      <th>appetite</th>\n",
              "      <td>1.00</td>\n",
              "      <td>1.00</td>\n",
              "      <td>0.00</td>\n",
              "      <td>0.000</td>\n",
              "      <td>1.00</td>\n",
              "    </tr>\n",
              "    <tr>\n",
              "      <th>pedal_edema</th>\n",
              "      <td>0.00</td>\n",
              "      <td>0.00</td>\n",
              "      <td>0.00</td>\n",
              "      <td>1.000</td>\n",
              "      <td>0.00</td>\n",
              "    </tr>\n",
              "    <tr>\n",
              "      <th>anemia</th>\n",
              "      <td>0.00</td>\n",
              "      <td>0.00</td>\n",
              "      <td>1.00</td>\n",
              "      <td>1.000</td>\n",
              "      <td>0.00</td>\n",
              "    </tr>\n",
              "    <tr>\n",
              "      <th>classification</th>\n",
              "      <td>1.00</td>\n",
              "      <td>1.00</td>\n",
              "      <td>1.00</td>\n",
              "      <td>1.000</td>\n",
              "      <td>1.00</td>\n",
              "    </tr>\n",
              "  </tbody>\n",
              "</table>\n",
              "</div>"
            ],
            "text/plain": [
              "                               0        1        2         3        4\n",
              "age                        48.00     7.00    62.00    48.000    51.00\n",
              "blood_pressure             80.00    50.00    80.00    70.000    80.00\n",
              "specific_gravity            1.02     1.02     1.01     1.005     1.01\n",
              "albumin                     1.00     4.00     2.00     4.000     2.00\n",
              "sugar                       0.00     0.00     3.00     0.000     0.00\n",
              "red_blood_cells             0.81     0.81     1.00     1.000     1.00\n",
              "pus_cell                    1.00     1.00     1.00     0.000     1.00\n",
              "pus_cell_clumps             0.00     0.00     0.00     1.000     0.00\n",
              "bacteria                    0.00     0.00     0.00     0.000     0.00\n",
              "blood_glucose_random      121.00   148.04   423.00   117.000   106.00\n",
              "blood_urea                 36.00    18.00    53.00    56.000    26.00\n",
              "serum_creatinine            1.20     0.80     1.80     3.800     1.40\n",
              "sodium                    137.53   137.53   137.53   111.000   137.53\n",
              "potassium                   4.63     4.63     4.63     2.500     4.63\n",
              "haemoglobin                15.40    11.30     9.60    11.200    11.60\n",
              "packed_cell_volume         44.00    38.00    31.00    32.000    35.00\n",
              "white_blood_cell_count   7800.00  6000.00  7500.00  6700.000  7300.00\n",
              "red_blood_cell_count        5.20     4.71     4.71     3.900     4.60\n",
              "hypertension                1.00     0.00     0.00     1.000     0.00\n",
              "diabetes_mellitus           1.00     0.00     1.00     0.000     0.00\n",
              "coronary_artery_disease     0.00     0.00     0.00     0.000     0.00\n",
              "appetite                    1.00     1.00     0.00     0.000     1.00\n",
              "pedal_edema                 0.00     0.00     0.00     1.000     0.00\n",
              "anemia                      0.00     0.00     1.00     1.000     0.00\n",
              "classification              1.00     1.00     1.00     1.000     1.00"
            ]
          },
          "metadata": {},
          "execution_count": 7
        }
      ]
    },
    {
      "cell_type": "code",
      "metadata": {
        "id": "qGScnBFjEHfo"
      },
      "source": [
        "X = df.values[:, 0:24]\n",
        "y = df.values[:, -1]"
      ],
      "execution_count": null,
      "outputs": []
    },
    {
      "cell_type": "code",
      "metadata": {
        "id": "l5CGpUTaEOgX"
      },
      "source": [
        "from sklearn.model_selection import train_test_split\n"
      ],
      "execution_count": null,
      "outputs": []
    },
    {
      "cell_type": "code",
      "metadata": {
        "id": "Q-i9cY6yET35"
      },
      "source": [
        "X_train, X_test, y_train, y_test = train_test_split(X, y, test_size = 0.30, random_state = 0)\n"
      ],
      "execution_count": null,
      "outputs": []
    },
    {
      "cell_type": "code",
      "metadata": {
        "colab": {
          "base_uri": "https://localhost:8080/"
        },
        "id": "a-KYHJxCEW7U",
        "outputId": "f1867c01-e24e-459e-ef32-a10e8805a460"
      },
      "source": [
        "from sklearn.metrics import roc_curve\n",
        "from sklearn.metrics import roc_auc_score\n",
        "!pip install scikit-plot\n",
        "import scikitplot as skplt\n"
      ],
      "execution_count": null,
      "outputs": [
        {
          "output_type": "stream",
          "name": "stdout",
          "text": [
            "Collecting scikit-plot\n",
            "  Downloading scikit_plot-0.3.7-py3-none-any.whl (33 kB)\n",
            "Requirement already satisfied: scipy>=0.9 in /usr/local/lib/python3.7/dist-packages (from scikit-plot) (1.4.1)\n",
            "Requirement already satisfied: scikit-learn>=0.18 in /usr/local/lib/python3.7/dist-packages (from scikit-plot) (1.0.2)\n",
            "Requirement already satisfied: matplotlib>=1.4.0 in /usr/local/lib/python3.7/dist-packages (from scikit-plot) (3.2.2)\n",
            "Requirement already satisfied: joblib>=0.10 in /usr/local/lib/python3.7/dist-packages (from scikit-plot) (1.1.0)\n",
            "Requirement already satisfied: pyparsing!=2.0.4,!=2.1.2,!=2.1.6,>=2.0.1 in /usr/local/lib/python3.7/dist-packages (from matplotlib>=1.4.0->scikit-plot) (3.0.7)\n",
            "Requirement already satisfied: python-dateutil>=2.1 in /usr/local/lib/python3.7/dist-packages (from matplotlib>=1.4.0->scikit-plot) (2.8.2)\n",
            "Requirement already satisfied: cycler>=0.10 in /usr/local/lib/python3.7/dist-packages (from matplotlib>=1.4.0->scikit-plot) (0.11.0)\n",
            "Requirement already satisfied: kiwisolver>=1.0.1 in /usr/local/lib/python3.7/dist-packages (from matplotlib>=1.4.0->scikit-plot) (1.3.2)\n",
            "Requirement already satisfied: numpy>=1.11 in /usr/local/lib/python3.7/dist-packages (from matplotlib>=1.4.0->scikit-plot) (1.19.5)\n",
            "Requirement already satisfied: six>=1.5 in /usr/local/lib/python3.7/dist-packages (from python-dateutil>=2.1->matplotlib>=1.4.0->scikit-plot) (1.15.0)\n",
            "Requirement already satisfied: threadpoolctl>=2.0.0 in /usr/local/lib/python3.7/dist-packages (from scikit-learn>=0.18->scikit-plot) (3.1.0)\n",
            "Installing collected packages: scikit-plot\n",
            "Successfully installed scikit-plot-0.3.7\n"
          ]
        }
      ]
    },
    {
      "cell_type": "code",
      "metadata": {
        "id": "aN6WdwGNEZ9K"
      },
      "source": [
        "import scikitplot as skplt\n"
      ],
      "execution_count": null,
      "outputs": []
    },
    {
      "cell_type": "markdown",
      "metadata": {
        "id": "uLmpnH0xF9H7"
      },
      "source": [
        "# **KNN**"
      ]
    },
    {
      "cell_type": "code",
      "metadata": {
        "colab": {
          "base_uri": "https://localhost:8080/"
        },
        "id": "08rAh8PbEzf6",
        "outputId": "ad180f0c-c654-446f-8524-eee545aeeae6"
      },
      "source": [
        "from sklearn.neighbors import KNeighborsClassifier\n",
        "from sklearn.metrics import accuracy_score, confusion_matrix, classification_report\n",
        "knn = KNeighborsClassifier(n_neighbors=1)\n",
        "knn.fit(X_train, y_train)\n",
        "knn_acc = accuracy_score(y_test, knn.predict(X_test))\n",
        "print(f\"Training Accuracy of KNN is {accuracy_score(y_train, knn.predict(X_train))}\")\n",
        "print(f\"Test Accuracy of KNN is {knn_acc} \\n\")\n",
        "print(f\"Confusion Matrix :- \\n{confusion_matrix(y_test, knn.predict(X_test))}\\n\")\n",
        "print(f\"Classification Report :- \\n {classification_report(y_test, knn.predict(X_test))}\")"
      ],
      "execution_count": null,
      "outputs": [
        {
          "output_type": "stream",
          "name": "stdout",
          "text": [
            "Training Accuracy of KNN is 1.0\n",
            "Test Accuracy of KNN is 0.8333333333333334 \n",
            "\n",
            "Confusion Matrix :- \n",
            "[[39  9]\n",
            " [11 61]]\n",
            "\n",
            "Classification Report :- \n",
            "               precision    recall  f1-score   support\n",
            "\n",
            "         0.0       0.78      0.81      0.80        48\n",
            "         1.0       0.87      0.85      0.86        72\n",
            "\n",
            "    accuracy                           0.83       120\n",
            "   macro avg       0.83      0.83      0.83       120\n",
            "weighted avg       0.83      0.83      0.83       120\n",
            "\n"
          ]
        }
      ]
    },
    {
      "cell_type": "code",
      "metadata": {
        "colab": {
          "base_uri": "https://localhost:8080/",
          "height": 350
        },
        "id": "lA8UF1FYE7Ua",
        "outputId": "b04e50de-25db-4e80-d127-9472a0a9b38f"
      },
      "source": [
        "y_probas = knn.predict_proba(X_test)\n",
        "skplt.metrics.plot_roc_curve(y_test, y_probas)\n",
        "plt.show()"
      ],
      "execution_count": null,
      "outputs": [
        {
          "output_type": "stream",
          "name": "stderr",
          "text": [
            "/usr/local/lib/python3.7/dist-packages/sklearn/utils/deprecation.py:87: FutureWarning: Function plot_roc_curve is deprecated; This will be removed in v0.5.0. Please use scikitplot.metrics.plot_roc instead.\n",
            "  warnings.warn(msg, category=FutureWarning)\n"
          ]
        },
        {
          "output_type": "display_data",
          "data": {
            "image/png": "[encoded data removed]",
            "text/plain": [
              "<Figure size 432x288 with 1 Axes>"
            ]
          },
          "metadata": {
            "needs_background": "light"
          }
        }
      ]
    },
    {
      "cell_type": "markdown",
      "metadata": {
        "id": "t41wku0dOwMl"
      },
      "source": [
        "# **Cross Validation**"
      ]
    },
    {
      "cell_type": "code",
      "metadata": {
        "colab": {
          "base_uri": "https://localhost:8080/"
        },
        "id": "t2G---eIFD01",
        "outputId": "9d133d88-24d1-475d-849a-c6277ddb8fc2"
      },
      "source": [
        "from numpy import mean\n",
        "from numpy import std\n",
        "from sklearn.model_selection import KFold\n",
        "from sklearn.model_selection import cross_val_score\n",
        "cv = KFold(n_splits=10, random_state=1, shuffle=True)\n",
        "knn_model = KNeighborsClassifier(n_neighbors=1)\n",
        "scores = cross_val_score(knn_model, X, y, scoring='accuracy', cv=cv, n_jobs=-1)\n",
        "print('Accuracy: %.3f (%.3f)' % (mean(scores), std(scores)))"
      ],
      "execution_count": null,
      "outputs": [
        {
          "output_type": "stream",
          "name": "stdout",
          "text": [
            "Accuracy: 0.802 (0.045)\n"
          ]
        }
      ]
    },
    {
      "cell_type": "code",
      "metadata": {
        "colab": {
          "base_uri": "https://localhost:8080/"
        },
        "id": "9FkxziPKFMOA",
        "outputId": "bbfc44bf-6872-4ad1-8da8-22a7f7e8f342"
      },
      "source": [
        "for k in range(2,12):\n",
        " cv = KFold(n_splits=k, random_state=1, shuffle=True)\n",
        " scores = cross_val_score(knn_model, X, y, scoring='accuracy', cv=cv, n_jobs=-1)\n",
        " print('Accuracy: %.3f (%.3f)' % (mean(scores), std(scores)))"
      ],
      "execution_count": null,
      "outputs": [
        {
          "output_type": "stream",
          "name": "stdout",
          "text": [
            "Accuracy: 0.740 (0.000)\n",
            "Accuracy: 0.820 (0.012)\n",
            "Accuracy: 0.802 (0.011)\n",
            "Accuracy: 0.815 (0.018)\n",
            "Accuracy: 0.817 (0.034)\n",
            "Accuracy: 0.797 (0.043)\n",
            "Accuracy: 0.795 (0.048)\n",
            "Accuracy: 0.795 (0.047)\n",
            "Accuracy: 0.802 (0.045)\n",
            "Accuracy: 0.790 (0.053)\n"
          ]
        }
      ]
    },
    {
      "cell_type": "markdown",
      "metadata": {
        "id": "qqNaCWdvF27t"
      },
      "source": [
        "# **Random Forest**"
      ]
    },
    {
      "cell_type": "code",
      "metadata": {
        "colab": {
          "base_uri": "https://localhost:8080/"
        },
        "id": "FyfA061kFOkF",
        "outputId": "27dccfa8-a9da-4f15-f36d-aa79b5045b56"
      },
      "source": [
        "from sklearn.ensemble import RandomForestClassifier\n",
        "rd_clf = RandomForestClassifier(criterion = 'entropy', max_depth = 11, max_features = 'auto', min_samples_leaf = 2, min_samples_split = 3, n_estimators = 110)\n",
        "rd_clf.fit(X_train, y_train)\n",
        "rd_clf_acc = accuracy_score(y_test, rd_clf.predict(X_test))\n",
        "print(f\"Training Accuracy of Random Forest Classifier is {accuracy_score(y_train, rd_clf.predict(X_train))}\")\n",
        "print(f\"Test Accuracy of Random Forest Classifier is {rd_clf_acc} \\n\")\n",
        "print(f\"Confusion Matrix :- \\n{confusion_matrix(y_test, rd_clf.predict(X_test))}\\n\")\n",
        "print(f\"Classification Report :- \\n {classification_report(y_test, rd_clf.predict(X_test))}\")"
      ],
      "execution_count": null,
      "outputs": [
        {
          "output_type": "stream",
          "name": "stdout",
          "text": [
            "Training Accuracy of Random Forest Classifier is 1.0\n",
            "Test Accuracy of Random Forest Classifier is 0.9666666666666667 \n",
            "\n",
            "Confusion Matrix :- \n",
            "[[44  4]\n",
            " [ 0 72]]\n",
            "\n",
            "Classification Report :- \n",
            "               precision    recall  f1-score   support\n",
            "\n",
            "         0.0       1.00      0.92      0.96        48\n",
            "         1.0       0.95      1.00      0.97        72\n",
            "\n",
            "    accuracy                           0.97       120\n",
            "   macro avg       0.97      0.96      0.96       120\n",
            "weighted avg       0.97      0.97      0.97       120\n",
            "\n"
          ]
        }
      ]
    },
    {
      "cell_type": "code",
      "metadata": {
        "colab": {
          "base_uri": "https://localhost:8080/",
          "height": 350
        },
        "id": "EHttO2LUFTTt",
        "outputId": "b3aa71ff-1703-4294-fc14-39b38b088305"
      },
      "source": [
        "y_probas = rd_clf.predict_proba(X_test)\n",
        "skplt.metrics.plot_roc_curve(y_test, y_probas)\n",
        "plt.show()"
      ],
      "execution_count": null,
      "outputs": [
        {
          "output_type": "stream",
          "name": "stderr",
          "text": [
            "/usr/local/lib/python3.7/dist-packages/sklearn/utils/deprecation.py:87: FutureWarning: Function plot_roc_curve is deprecated; This will be removed in v0.5.0. Please use scikitplot.metrics.plot_roc instead.\n",
            "  warnings.warn(msg, category=FutureWarning)\n"
          ]
        },
        {
          "output_type": "display_data",
          "data": {
            "image/png": "[encoded data removed]",
            "text/plain": [
              "<Figure size 432x288 with 1 Axes>"
            ]
          },
          "metadata": {
            "needs_background": "light"
          }
        }
      ]
    },
    {
      "cell_type": "markdown",
      "metadata": {
        "id": "RrLQTS5GFyja"
      },
      "source": [
        "# **Gaussian Naive Bayes**"
      ]
    },
    {
      "cell_type": "code",
      "metadata": {
        "colab": {
          "base_uri": "https://localhost:8080/"
        },
        "id": "3o4Ep9y6FXUL",
        "outputId": "2037918e-52e7-4f0b-9260-bfe1186c688e"
      },
      "source": [
        "from sklearn.naive_bayes import GaussianNB\n",
        "gnb = GaussianNB()\n",
        "gnb.fit(X_train, y_train)\n",
        "gnb_acc = accuracy_score(y_test, gnb.predict(X_test))\n",
        "print(f\"Training Accuracy of NB is {accuracy_score(y_train, gnb.predict(X_train))}\")\n",
        "print(f\"Test Accuracy of NB is {gnb_acc} \\n\")\n",
        "print(f\"Confusion Matrix :- \\n{confusion_matrix(y_test, gnb.predict(X_test))}\\n\")\n",
        "print(f\"Classification Report :- \\n {classification_report(y_test, gnb.predict(X_test))}\")\n"
      ],
      "execution_count": null,
      "outputs": [
        {
          "output_type": "stream",
          "name": "stdout",
          "text": [
            "Training Accuracy of NB is 0.9607142857142857\n",
            "Test Accuracy of NB is 0.9416666666666667 \n",
            "\n",
            "Confusion Matrix :- \n",
            "[[44  4]\n",
            " [ 3 69]]\n",
            "\n",
            "Classification Report :- \n",
            "               precision    recall  f1-score   support\n",
            "\n",
            "         0.0       0.94      0.92      0.93        48\n",
            "         1.0       0.95      0.96      0.95        72\n",
            "\n",
            "    accuracy                           0.94       120\n",
            "   macro avg       0.94      0.94      0.94       120\n",
            "weighted avg       0.94      0.94      0.94       120\n",
            "\n"
          ]
        }
      ]
    },
    {
      "cell_type": "code",
      "metadata": {
        "colab": {
          "base_uri": "https://localhost:8080/",
          "height": 350
        },
        "id": "oxfAx_qSFbf5",
        "outputId": "5438d3e9-d6d0-4281-d993-9973b4ced1ac"
      },
      "source": [
        "y_probas = gnb.predict_proba(X_test)\n",
        "skplt.metrics.plot_roc_curve(y_test, y_probas)\n",
        "plt.show()"
      ],
      "execution_count": null,
      "outputs": [
        {
          "output_type": "stream",
          "name": "stderr",
          "text": [
            "/usr/local/lib/python3.7/dist-packages/sklearn/utils/deprecation.py:87: FutureWarning: Function plot_roc_curve is deprecated; This will be removed in v0.5.0. Please use scikitplot.metrics.plot_roc instead.\n",
            "  warnings.warn(msg, category=FutureWarning)\n"
          ]
        },
        {
          "output_type": "display_data",
          "data": {
            "image/png": "[encoded data removed]",
            "text/plain": [
              "<Figure size 432x288 with 1 Axes>"
            ]
          },
          "metadata": {
            "needs_background": "light"
          }
        }
      ]
    },
    {
      "cell_type": "markdown",
      "metadata": {
        "id": "0Ta_oPKHFt_C"
      },
      "source": [
        "# **XGBoost**"
      ]
    },
    {
      "cell_type": "code",
      "metadata": {
        "colab": {
          "base_uri": "https://localhost:8080/"
        },
        "id": "924URqJbFfoF",
        "outputId": "cd0042e5-252e-4765-d740-6a4f7322419a"
      },
      "source": [
        "from xgboost import XGBClassifier\n",
        "xgb = XGBClassifier(learning_rate = 0.01, max_depth = 5, n_estimators = 100, random_state=0,use_label_encoder=False,min_child_weight = 1,\n",
        "                   gamma=0, subsample=0.9)\n",
        "xgb.fit(X_train, y_train)\n",
        "xgb_acc = accuracy_score(y_test, xgb.predict(X_test))\n",
        "print(f\"Training Accuracy of XgBoost is {accuracy_score(y_train, xgb.predict(X_train))}\")\n",
        "print(f\"Test Accuracy of XgBoost is {xgb_acc} \\n\")\n",
        "print(f\"Confusion Matrix :- \\n{confusion_matrix(y_test, xgb.predict(X_test))}\\n\")\n",
        "print(f\"Classification Report :- \\n {classification_report(y_test, xgb.predict(X_test))}\")"
      ],
      "execution_count": null,
      "outputs": [
        {
          "output_type": "stream",
          "name": "stdout",
          "text": [
            "Training Accuracy of XgBoost is 0.9857142857142858\n",
            "Test Accuracy of XgBoost is 0.9916666666666667 \n",
            "\n",
            "Confusion Matrix :- \n",
            "[[47  1]\n",
            " [ 0 72]]\n",
            "\n",
            "Classification Report :- \n",
            "               precision    recall  f1-score   support\n",
            "\n",
            "         0.0       1.00      0.98      0.99        48\n",
            "         1.0       0.99      1.00      0.99        72\n",
            "\n",
            "    accuracy                           0.99       120\n",
            "   macro avg       0.99      0.99      0.99       120\n",
            "weighted avg       0.99      0.99      0.99       120\n",
            "\n"
          ]
        }
      ]
    },
    {
      "cell_type": "code",
      "metadata": {
        "colab": {
          "base_uri": "https://localhost:8080/",
          "height": 350
        },
        "id": "wagLWbP1FmrS",
        "outputId": "75ab4fd5-dfe9-45c6-9b3c-68e546e644e1"
      },
      "source": [
        "y_probas = xgb.predict_proba(X_test)\n",
        "skplt.metrics.plot_roc_curve(y_test, y_probas)\n",
        "plt.show()"
      ],
      "execution_count": null,
      "outputs": [
        {
          "output_type": "stream",
          "name": "stderr",
          "text": [
            "/usr/local/lib/python3.7/dist-packages/sklearn/utils/deprecation.py:87: FutureWarning: Function plot_roc_curve is deprecated; This will be removed in v0.5.0. Please use scikitplot.metrics.plot_roc instead.\n",
            "  warnings.warn(msg, category=FutureWarning)\n"
          ]
        },
        {
          "output_type": "display_data",
          "data": {
            "image/png": "[encoded data removed]",
            "text/plain": [
              "<Figure size 432x288 with 1 Axes>"
            ]
          },
          "metadata": {
            "needs_background": "light"
          }
        }
      ]
    },
    {
      "cell_type": "code",
      "metadata": {
        "id": "atr5-hu-FqGk"
      },
      "source": [],
      "execution_count": null,
      "outputs": []
    }
  ]
}